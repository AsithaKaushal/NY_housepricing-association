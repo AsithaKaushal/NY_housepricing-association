{
  "nbformat": 4,
  "nbformat_minor": 0,
  "metadata": {
    "colab": {
      "provenance": []
    },
    "kernelspec": {
      "name": "python3",
      "display_name": "Python 3"
    },
    "language_info": {
      "name": "python"
    }
  },
  "cells": [
    {
      "cell_type": "code",
      "execution_count": null,
      "metadata": {
        "id": "03xWz8pWc-ds"
      },
      "outputs": [],
      "source": [
        "import statistics\n",
        "import numpy as np\n",
        "import pandas as pd\n",
        "import matplotlib.pyplot as plt\n",
        "import seaborn as sns\n",
        "import math\n",
        "\n",
        "\n"
      ]
    },
    {
      "cell_type": "code",
      "source": [
        "data = pd.read_csv(\"/content/sample_data/NY-House-Dataset.csv\")"
      ],
      "metadata": {
        "id": "AY0Yh_ZWUNQ8"
      },
      "execution_count": null,
      "outputs": []
    },
    {
      "cell_type": "markdown",
      "source": [
        "Understanding data"
      ],
      "metadata": {
        "id": "BVTdE-O_ncw_"
      }
    },
    {
      "cell_type": "code",
      "source": [
        "data.info()"
      ],
      "metadata": {
        "colab": {
          "base_uri": "https://localhost:8080/"
        },
        "id": "Q6amG4nbnImo",
        "outputId": "e7446173-531e-425d-bbe4-afcd9f2acfec"
      },
      "execution_count": null,
      "outputs": [
        {
          "output_type": "stream",
          "name": "stdout",
          "text": [
            "<class 'pandas.core.frame.DataFrame'>\n",
            "RangeIndex: 4801 entries, 0 to 4800\n",
            "Data columns (total 17 columns):\n",
            " #   Column                       Non-Null Count  Dtype  \n",
            "---  ------                       --------------  -----  \n",
            " 0   BROKERTITLE                  4801 non-null   object \n",
            " 1   TYPE                         4801 non-null   object \n",
            " 2   PRICE                        4801 non-null   int64  \n",
            " 3   BEDS                         4801 non-null   int64  \n",
            " 4   BATH                         4801 non-null   float64\n",
            " 5   PROPERTYSQFT                 4801 non-null   float64\n",
            " 6   ADDRESS                      4801 non-null   object \n",
            " 7   STATE                        4801 non-null   object \n",
            " 8   MAIN_ADDRESS                 4801 non-null   object \n",
            " 9   ADMINISTRATIVE_AREA_LEVEL_2  4801 non-null   object \n",
            " 10  LOCALITY                     4801 non-null   object \n",
            " 11  SUBLOCALITY                  4801 non-null   object \n",
            " 12  STREET_NAME                  4801 non-null   object \n",
            " 13  LONG_NAME                    4801 non-null   object \n",
            " 14  FORMATTED_ADDRESS            4801 non-null   object \n",
            " 15  LATITUDE                     4801 non-null   float64\n",
            " 16  LONGITUDE                    4801 non-null   float64\n",
            "dtypes: float64(4), int64(2), object(11)\n",
            "memory usage: 637.8+ KB\n"
          ]
        }
      ]
    },
    {
      "cell_type": "code",
      "source": [
        "data.dtypes"
      ],
      "metadata": {
        "colab": {
          "base_uri": "https://localhost:8080/"
        },
        "id": "lK_mv9gyo7Dm",
        "outputId": "ea3e40ed-c759-4c77-c17d-1357fe487b76"
      },
      "execution_count": null,
      "outputs": [
        {
          "output_type": "execute_result",
          "data": {
            "text/plain": [
              "BROKERTITLE                     object\n",
              "TYPE                            object\n",
              "PRICE                            int64\n",
              "BEDS                             int64\n",
              "BATH                           float64\n",
              "PROPERTYSQFT                   float64\n",
              "ADDRESS                         object\n",
              "STATE                           object\n",
              "MAIN_ADDRESS                    object\n",
              "ADMINISTRATIVE_AREA_LEVEL_2     object\n",
              "LOCALITY                        object\n",
              "SUBLOCALITY                     object\n",
              "STREET_NAME                     object\n",
              "LONG_NAME                       object\n",
              "FORMATTED_ADDRESS               object\n",
              "LATITUDE                       float64\n",
              "LONGITUDE                      float64\n",
              "dtype: object"
            ]
          },
          "metadata": {},
          "execution_count": 5
        }
      ]
    },
    {
      "cell_type": "code",
      "source": [
        "data['BATH']"
      ],
      "metadata": {
        "colab": {
          "base_uri": "https://localhost:8080/"
        },
        "id": "Tg0Qy8FspG70",
        "outputId": "985822a5-17af-4abd-801a-7134493584d4"
      },
      "execution_count": null,
      "outputs": [
        {
          "output_type": "execute_result",
          "data": {
            "text/plain": [
              "0        2.000000\n",
              "1       10.000000\n",
              "2        2.000000\n",
              "3        1.000000\n",
              "4        2.373861\n",
              "          ...    \n",
              "4796     1.000000\n",
              "4797     1.000000\n",
              "4798     1.000000\n",
              "4799     1.000000\n",
              "4800     1.000000\n",
              "Name: BATH, Length: 4801, dtype: float64"
            ]
          },
          "metadata": {},
          "execution_count": 6
        }
      ]
    },
    {
      "cell_type": "code",
      "source": [
        "mean=statistics.mean(data['BATH'])"
      ],
      "metadata": {
        "id": "60cilbX9pYRV"
      },
      "execution_count": null,
      "outputs": []
    },
    {
      "cell_type": "code",
      "source": [
        "print(round(mean,2))"
      ],
      "metadata": {
        "colab": {
          "base_uri": "https://localhost:8080/"
        },
        "id": "HIHzYmmwpgxv",
        "outputId": "68b37fbf-608a-4c8d-9736-23d201e63fa5"
      },
      "execution_count": null,
      "outputs": [
        {
          "output_type": "stream",
          "name": "stdout",
          "text": [
            "2.37\n"
          ]
        }
      ]
    },
    {
      "cell_type": "code",
      "source": [
        "print(mean)\n",
        "median=statistics.median(data['BATH'])\n",
        "print(median)"
      ],
      "metadata": {
        "colab": {
          "base_uri": "https://localhost:8080/"
        },
        "id": "xmdhwnsGpqUU",
        "outputId": "a7c32dd5-c3e3-4a3e-91a8-b738d20dc7cf"
      },
      "execution_count": null,
      "outputs": [
        {
          "output_type": "stream",
          "name": "stdout",
          "text": [
            "2.3738608579684373\n",
            "2.0\n"
          ]
        }
      ]
    },
    {
      "cell_type": "code",
      "source": [
        "sd=statistics.stdev(data['BATH'])\n",
        "print(sd)"
      ],
      "metadata": {
        "colab": {
          "base_uri": "https://localhost:8080/"
        },
        "id": "I5_H9pftqEfn",
        "outputId": "0d2a9647-cec0-4d3c-a417-c0d602c8e565"
      },
      "execution_count": null,
      "outputs": [
        {
          "output_type": "stream",
          "name": "stdout",
          "text": [
            "1.9469616305978468\n"
          ]
        }
      ]
    },
    {
      "cell_type": "code",
      "source": [
        "va=statistics.variance(data['BATH'])\n",
        "print(va)"
      ],
      "metadata": {
        "colab": {
          "base_uri": "https://localhost:8080/"
        },
        "id": "g7H-SBbqqO1-",
        "outputId": "4a82c66e-c673-4a79-88d5-1d1f6216130f"
      },
      "execution_count": null,
      "outputs": [
        {
          "output_type": "stream",
          "name": "stdout",
          "text": [
            "3.7906595910202268\n"
          ]
        }
      ]
    },
    {
      "cell_type": "code",
      "source": [
        "q1=np.percentile(data['BATH'],25)\n",
        "print(q1)\n",
        "q3=np.percentile(data['BATH'],75)\n",
        "print(q3)"
      ],
      "metadata": {
        "colab": {
          "base_uri": "https://localhost:8080/"
        },
        "id": "VaXBneo7qUlO",
        "outputId": "ec360de5-31cb-47b1-8dc2-7d387af0cacd"
      },
      "execution_count": null,
      "outputs": [
        {
          "output_type": "stream",
          "name": "stdout",
          "text": [
            "1.0\n",
            "3.0\n"
          ]
        }
      ]
    },
    {
      "cell_type": "code",
      "source": [
        "df=pd.DataFrame(data)\n",
        "df.head()"
      ],
      "metadata": {
        "colab": {
          "base_uri": "https://localhost:8080/",
          "height": 469
        },
        "id": "fzEkghIvaDzT",
        "outputId": "662e1678-4d78-4a04-f308-c858254d6649"
      },
      "execution_count": null,
      "outputs": [
        {
          "output_type": "execute_result",
          "data": {
            "text/plain": [
              "                                         BROKERTITLE                TYPE  \\\n",
              "0        Brokered by Douglas Elliman  -111 Fifth Ave      Condo for sale   \n",
              "1                                Brokered by Serhant      Condo for sale   \n",
              "2                             Brokered by Sowae Corp      House for sale   \n",
              "3                                Brokered by COMPASS      Condo for sale   \n",
              "4  Brokered by Sotheby's International Realty - E...  Townhouse for sale   \n",
              "\n",
              "       PRICE  BEDS       BATH  PROPERTYSQFT  \\\n",
              "0     315000     2   2.000000        1400.0   \n",
              "1  195000000     7  10.000000       17545.0   \n",
              "2     260000     4   2.000000        2015.0   \n",
              "3      69000     3   1.000000         445.0   \n",
              "4   55000000     7   2.373861       14175.0   \n",
              "\n",
              "                                             ADDRESS                    STATE  \\\n",
              "0                               2 E 55th St Unit 803       New York, NY 10022   \n",
              "1  Central Park Tower Penthouse-217 W 57th New Yo...       New York, NY 10019   \n",
              "2                                   620 Sinclair Ave  Staten Island, NY 10312   \n",
              "3                            2 E 55th St Unit 908W33      Manhattan, NY 10022   \n",
              "4                                        5 E 64th St       New York, NY 10065   \n",
              "\n",
              "                                        MAIN_ADDRESS  \\\n",
              "0             2 E 55th St Unit 803New York, NY 10022   \n",
              "1  Central Park Tower Penthouse-217 W 57th New Yo...   \n",
              "2            620 Sinclair AveStaten Island, NY 10312   \n",
              "3         2 E 55th St Unit 908W33Manhattan, NY 10022   \n",
              "4                      5 E 64th StNew York, NY 10065   \n",
              "\n",
              "  ADMINISTRATIVE_AREA_LEVEL_2  LOCALITY      SUBLOCALITY       STREET_NAME  \\\n",
              "0             New York County  New York        Manhattan  East 55th Street   \n",
              "1               United States  New York  New York County          New York   \n",
              "2               United States  New York  Richmond County     Staten Island   \n",
              "3               United States  New York  New York County          New York   \n",
              "4               United States  New York  New York County          New York   \n",
              "\n",
              "          LONG_NAME                                  FORMATTED_ADDRESS  \\\n",
              "0   Regis Residence  Regis Residence, 2 E 55th St #803, New York, N...   \n",
              "1  West 57th Street             217 W 57th St, New York, NY 10019, USA   \n",
              "2   Sinclair Avenue     620 Sinclair Ave, Staten Island, NY 10312, USA   \n",
              "3  East 55th Street               2 E 55th St, New York, NY 10022, USA   \n",
              "4  East 64th Street               5 E 64th St, New York, NY 10065, USA   \n",
              "\n",
              "    LATITUDE  LONGITUDE  \n",
              "0  40.761255 -73.974483  \n",
              "1  40.766393 -73.980991  \n",
              "2  40.541805 -74.196109  \n",
              "3  40.761398 -73.974613  \n",
              "4  40.767224 -73.969856  "
            ],
            "text/html": [
              "\n",
              "  <div id=\"df-3bdb4649-c191-455e-8920-764dd5349a03\" class=\"colab-df-container\">\n",
              "    <div>\n",
              "<style scoped>\n",
              "    .dataframe tbody tr th:only-of-type {\n",
              "        vertical-align: middle;\n",
              "    }\n",
              "\n",
              "    .dataframe tbody tr th {\n",
              "        vertical-align: top;\n",
              "    }\n",
              "\n",
              "    .dataframe thead th {\n",
              "        text-align: right;\n",
              "    }\n",
              "</style>\n",
              "<table border=\"1\" class=\"dataframe\">\n",
              "  <thead>\n",
              "    <tr style=\"text-align: right;\">\n",
              "      <th></th>\n",
              "      <th>BROKERTITLE</th>\n",
              "      <th>TYPE</th>\n",
              "      <th>PRICE</th>\n",
              "      <th>BEDS</th>\n",
              "      <th>BATH</th>\n",
              "      <th>PROPERTYSQFT</th>\n",
              "      <th>ADDRESS</th>\n",
              "      <th>STATE</th>\n",
              "      <th>MAIN_ADDRESS</th>\n",
              "      <th>ADMINISTRATIVE_AREA_LEVEL_2</th>\n",
              "      <th>LOCALITY</th>\n",
              "      <th>SUBLOCALITY</th>\n",
              "      <th>STREET_NAME</th>\n",
              "      <th>LONG_NAME</th>\n",
              "      <th>FORMATTED_ADDRESS</th>\n",
              "      <th>LATITUDE</th>\n",
              "      <th>LONGITUDE</th>\n",
              "    </tr>\n",
              "  </thead>\n",
              "  <tbody>\n",
              "    <tr>\n",
              "      <th>0</th>\n",
              "      <td>Brokered by Douglas Elliman  -111 Fifth Ave</td>\n",
              "      <td>Condo for sale</td>\n",
              "      <td>315000</td>\n",
              "      <td>2</td>\n",
              "      <td>2.000000</td>\n",
              "      <td>1400.0</td>\n",
              "      <td>2 E 55th St Unit 803</td>\n",
              "      <td>New York, NY 10022</td>\n",
              "      <td>2 E 55th St Unit 803New York, NY 10022</td>\n",
              "      <td>New York County</td>\n",
              "      <td>New York</td>\n",
              "      <td>Manhattan</td>\n",
              "      <td>East 55th Street</td>\n",
              "      <td>Regis Residence</td>\n",
              "      <td>Regis Residence, 2 E 55th St #803, New York, N...</td>\n",
              "      <td>40.761255</td>\n",
              "      <td>-73.974483</td>\n",
              "    </tr>\n",
              "    <tr>\n",
              "      <th>1</th>\n",
              "      <td>Brokered by Serhant</td>\n",
              "      <td>Condo for sale</td>\n",
              "      <td>195000000</td>\n",
              "      <td>7</td>\n",
              "      <td>10.000000</td>\n",
              "      <td>17545.0</td>\n",
              "      <td>Central Park Tower Penthouse-217 W 57th New Yo...</td>\n",
              "      <td>New York, NY 10019</td>\n",
              "      <td>Central Park Tower Penthouse-217 W 57th New Yo...</td>\n",
              "      <td>United States</td>\n",
              "      <td>New York</td>\n",
              "      <td>New York County</td>\n",
              "      <td>New York</td>\n",
              "      <td>West 57th Street</td>\n",
              "      <td>217 W 57th St, New York, NY 10019, USA</td>\n",
              "      <td>40.766393</td>\n",
              "      <td>-73.980991</td>\n",
              "    </tr>\n",
              "    <tr>\n",
              "      <th>2</th>\n",
              "      <td>Brokered by Sowae Corp</td>\n",
              "      <td>House for sale</td>\n",
              "      <td>260000</td>\n",
              "      <td>4</td>\n",
              "      <td>2.000000</td>\n",
              "      <td>2015.0</td>\n",
              "      <td>620 Sinclair Ave</td>\n",
              "      <td>Staten Island, NY 10312</td>\n",
              "      <td>620 Sinclair AveStaten Island, NY 10312</td>\n",
              "      <td>United States</td>\n",
              "      <td>New York</td>\n",
              "      <td>Richmond County</td>\n",
              "      <td>Staten Island</td>\n",
              "      <td>Sinclair Avenue</td>\n",
              "      <td>620 Sinclair Ave, Staten Island, NY 10312, USA</td>\n",
              "      <td>40.541805</td>\n",
              "      <td>-74.196109</td>\n",
              "    </tr>\n",
              "    <tr>\n",
              "      <th>3</th>\n",
              "      <td>Brokered by COMPASS</td>\n",
              "      <td>Condo for sale</td>\n",
              "      <td>69000</td>\n",
              "      <td>3</td>\n",
              "      <td>1.000000</td>\n",
              "      <td>445.0</td>\n",
              "      <td>2 E 55th St Unit 908W33</td>\n",
              "      <td>Manhattan, NY 10022</td>\n",
              "      <td>2 E 55th St Unit 908W33Manhattan, NY 10022</td>\n",
              "      <td>United States</td>\n",
              "      <td>New York</td>\n",
              "      <td>New York County</td>\n",
              "      <td>New York</td>\n",
              "      <td>East 55th Street</td>\n",
              "      <td>2 E 55th St, New York, NY 10022, USA</td>\n",
              "      <td>40.761398</td>\n",
              "      <td>-73.974613</td>\n",
              "    </tr>\n",
              "    <tr>\n",
              "      <th>4</th>\n",
              "      <td>Brokered by Sotheby's International Realty - E...</td>\n",
              "      <td>Townhouse for sale</td>\n",
              "      <td>55000000</td>\n",
              "      <td>7</td>\n",
              "      <td>2.373861</td>\n",
              "      <td>14175.0</td>\n",
              "      <td>5 E 64th St</td>\n",
              "      <td>New York, NY 10065</td>\n",
              "      <td>5 E 64th StNew York, NY 10065</td>\n",
              "      <td>United States</td>\n",
              "      <td>New York</td>\n",
              "      <td>New York County</td>\n",
              "      <td>New York</td>\n",
              "      <td>East 64th Street</td>\n",
              "      <td>5 E 64th St, New York, NY 10065, USA</td>\n",
              "      <td>40.767224</td>\n",
              "      <td>-73.969856</td>\n",
              "    </tr>\n",
              "  </tbody>\n",
              "</table>\n",
              "</div>\n",
              "    <div class=\"colab-df-buttons\">\n",
              "\n",
              "  <div class=\"colab-df-container\">\n",
              "    <button class=\"colab-df-convert\" onclick=\"convertToInteractive('df-3bdb4649-c191-455e-8920-764dd5349a03')\"\n",
              "            title=\"Convert this dataframe to an interactive table.\"\n",
              "            style=\"display:none;\">\n",
              "\n",
              "  <svg xmlns=\"http://www.w3.org/2000/svg\" height=\"24px\" viewBox=\"0 -960 960 960\">\n",
              "    <path d=\"M120-120v-720h720v720H120Zm60-500h600v-160H180v160Zm220 220h160v-160H400v160Zm0 220h160v-160H400v160ZM180-400h160v-160H180v160Zm440 0h160v-160H620v160ZM180-180h160v-160H180v160Zm440 0h160v-160H620v160Z\"/>\n",
              "  </svg>\n",
              "    </button>\n",
              "\n",
              "  <style>\n",
              "    .colab-df-container {\n",
              "      display:flex;\n",
              "      gap: 12px;\n",
              "    }\n",
              "\n",
              "    .colab-df-convert {\n",
              "      background-color: #E8F0FE;\n",
              "      border: none;\n",
              "      border-radius: 50%;\n",
              "      cursor: pointer;\n",
              "      display: none;\n",
              "      fill: #1967D2;\n",
              "      height: 32px;\n",
              "      padding: 0 0 0 0;\n",
              "      width: 32px;\n",
              "    }\n",
              "\n",
              "    .colab-df-convert:hover {\n",
              "      background-color: #E2EBFA;\n",
              "      box-shadow: 0px 1px 2px rgba(60, 64, 67, 0.3), 0px 1px 3px 1px rgba(60, 64, 67, 0.15);\n",
              "      fill: #174EA6;\n",
              "    }\n",
              "\n",
              "    .colab-df-buttons div {\n",
              "      margin-bottom: 4px;\n",
              "    }\n",
              "\n",
              "    [theme=dark] .colab-df-convert {\n",
              "      background-color: #3B4455;\n",
              "      fill: #D2E3FC;\n",
              "    }\n",
              "\n",
              "    [theme=dark] .colab-df-convert:hover {\n",
              "      background-color: #434B5C;\n",
              "      box-shadow: 0px 1px 3px 1px rgba(0, 0, 0, 0.15);\n",
              "      filter: drop-shadow(0px 1px 2px rgba(0, 0, 0, 0.3));\n",
              "      fill: #FFFFFF;\n",
              "    }\n",
              "  </style>\n",
              "\n",
              "    <script>\n",
              "      const buttonEl =\n",
              "        document.querySelector('#df-3bdb4649-c191-455e-8920-764dd5349a03 button.colab-df-convert');\n",
              "      buttonEl.style.display =\n",
              "        google.colab.kernel.accessAllowed ? 'block' : 'none';\n",
              "\n",
              "      async function convertToInteractive(key) {\n",
              "        const element = document.querySelector('#df-3bdb4649-c191-455e-8920-764dd5349a03');\n",
              "        const dataTable =\n",
              "          await google.colab.kernel.invokeFunction('convertToInteractive',\n",
              "                                                    [key], {});\n",
              "        if (!dataTable) return;\n",
              "\n",
              "        const docLinkHtml = 'Like what you see? Visit the ' +\n",
              "          '<a target=\"_blank\" href=https://colab.research.google.com/notebooks/data_table.ipynb>data table notebook</a>'\n",
              "          + ' to learn more about interactive tables.';\n",
              "        element.innerHTML = '';\n",
              "        dataTable['output_type'] = 'display_data';\n",
              "        await google.colab.output.renderOutput(dataTable, element);\n",
              "        const docLink = document.createElement('div');\n",
              "        docLink.innerHTML = docLinkHtml;\n",
              "        element.appendChild(docLink);\n",
              "      }\n",
              "    </script>\n",
              "  </div>\n",
              "\n",
              "\n",
              "<div id=\"df-7d386428-59cb-4ba3-80dc-8c74bc8248e6\">\n",
              "  <button class=\"colab-df-quickchart\" onclick=\"quickchart('df-7d386428-59cb-4ba3-80dc-8c74bc8248e6')\"\n",
              "            title=\"Suggest charts\"\n",
              "            style=\"display:none;\">\n",
              "\n",
              "<svg xmlns=\"http://www.w3.org/2000/svg\" height=\"24px\"viewBox=\"0 0 24 24\"\n",
              "     width=\"24px\">\n",
              "    <g>\n",
              "        <path d=\"M19 3H5c-1.1 0-2 .9-2 2v14c0 1.1.9 2 2 2h14c1.1 0 2-.9 2-2V5c0-1.1-.9-2-2-2zM9 17H7v-7h2v7zm4 0h-2V7h2v10zm4 0h-2v-4h2v4z\"/>\n",
              "    </g>\n",
              "</svg>\n",
              "  </button>\n",
              "\n",
              "<style>\n",
              "  .colab-df-quickchart {\n",
              "      --bg-color: #E8F0FE;\n",
              "      --fill-color: #1967D2;\n",
              "      --hover-bg-color: #E2EBFA;\n",
              "      --hover-fill-color: #174EA6;\n",
              "      --disabled-fill-color: #AAA;\n",
              "      --disabled-bg-color: #DDD;\n",
              "  }\n",
              "\n",
              "  [theme=dark] .colab-df-quickchart {\n",
              "      --bg-color: #3B4455;\n",
              "      --fill-color: #D2E3FC;\n",
              "      --hover-bg-color: #434B5C;\n",
              "      --hover-fill-color: #FFFFFF;\n",
              "      --disabled-bg-color: #3B4455;\n",
              "      --disabled-fill-color: #666;\n",
              "  }\n",
              "\n",
              "  .colab-df-quickchart {\n",
              "    background-color: var(--bg-color);\n",
              "    border: none;\n",
              "    border-radius: 50%;\n",
              "    cursor: pointer;\n",
              "    display: none;\n",
              "    fill: var(--fill-color);\n",
              "    height: 32px;\n",
              "    padding: 0;\n",
              "    width: 32px;\n",
              "  }\n",
              "\n",
              "  .colab-df-quickchart:hover {\n",
              "    background-color: var(--hover-bg-color);\n",
              "    box-shadow: 0 1px 2px rgba(60, 64, 67, 0.3), 0 1px 3px 1px rgba(60, 64, 67, 0.15);\n",
              "    fill: var(--button-hover-fill-color);\n",
              "  }\n",
              "\n",
              "  .colab-df-quickchart-complete:disabled,\n",
              "  .colab-df-quickchart-complete:disabled:hover {\n",
              "    background-color: var(--disabled-bg-color);\n",
              "    fill: var(--disabled-fill-color);\n",
              "    box-shadow: none;\n",
              "  }\n",
              "\n",
              "  .colab-df-spinner {\n",
              "    border: 2px solid var(--fill-color);\n",
              "    border-color: transparent;\n",
              "    border-bottom-color: var(--fill-color);\n",
              "    animation:\n",
              "      spin 1s steps(1) infinite;\n",
              "  }\n",
              "\n",
              "  @keyframes spin {\n",
              "    0% {\n",
              "      border-color: transparent;\n",
              "      border-bottom-color: var(--fill-color);\n",
              "      border-left-color: var(--fill-color);\n",
              "    }\n",
              "    20% {\n",
              "      border-color: transparent;\n",
              "      border-left-color: var(--fill-color);\n",
              "      border-top-color: var(--fill-color);\n",
              "    }\n",
              "    30% {\n",
              "      border-color: transparent;\n",
              "      border-left-color: var(--fill-color);\n",
              "      border-top-color: var(--fill-color);\n",
              "      border-right-color: var(--fill-color);\n",
              "    }\n",
              "    40% {\n",
              "      border-color: transparent;\n",
              "      border-right-color: var(--fill-color);\n",
              "      border-top-color: var(--fill-color);\n",
              "    }\n",
              "    60% {\n",
              "      border-color: transparent;\n",
              "      border-right-color: var(--fill-color);\n",
              "    }\n",
              "    80% {\n",
              "      border-color: transparent;\n",
              "      border-right-color: var(--fill-color);\n",
              "      border-bottom-color: var(--fill-color);\n",
              "    }\n",
              "    90% {\n",
              "      border-color: transparent;\n",
              "      border-bottom-color: var(--fill-color);\n",
              "    }\n",
              "  }\n",
              "</style>\n",
              "\n",
              "  <script>\n",
              "    async function quickchart(key) {\n",
              "      const quickchartButtonEl =\n",
              "        document.querySelector('#' + key + ' button');\n",
              "      quickchartButtonEl.disabled = true;  // To prevent multiple clicks.\n",
              "      quickchartButtonEl.classList.add('colab-df-spinner');\n",
              "      try {\n",
              "        const charts = await google.colab.kernel.invokeFunction(\n",
              "            'suggestCharts', [key], {});\n",
              "      } catch (error) {\n",
              "        console.error('Error during call to suggestCharts:', error);\n",
              "      }\n",
              "      quickchartButtonEl.classList.remove('colab-df-spinner');\n",
              "      quickchartButtonEl.classList.add('colab-df-quickchart-complete');\n",
              "    }\n",
              "    (() => {\n",
              "      let quickchartButtonEl =\n",
              "        document.querySelector('#df-7d386428-59cb-4ba3-80dc-8c74bc8248e6 button');\n",
              "      quickchartButtonEl.style.display =\n",
              "        google.colab.kernel.accessAllowed ? 'block' : 'none';\n",
              "    })();\n",
              "  </script>\n",
              "</div>\n",
              "\n",
              "    </div>\n",
              "  </div>\n"
            ],
            "application/vnd.google.colaboratory.intrinsic+json": {
              "type": "dataframe",
              "variable_name": "df",
              "summary": "{\n  \"name\": \"df\",\n  \"rows\": 4801,\n  \"fields\": [\n    {\n      \"column\": \"BROKERTITLE\",\n      \"properties\": {\n        \"dtype\": \"category\",\n        \"num_unique_values\": 1036,\n        \"samples\": [\n          \"Brokered by LINCOLN V WALTERS II REALTY CORP\",\n          \"Brokered by East Coast REALTORS Inc\",\n          \"Brokered by Welhome Realty Inc\"\n        ],\n        \"semantic_type\": \"\",\n        \"description\": \"\"\n      }\n    },\n    {\n      \"column\": \"TYPE\",\n      \"properties\": {\n        \"dtype\": \"category\",\n        \"num_unique_values\": 13,\n        \"samples\": [\n          \"Mobile house for sale\",\n          \"Pending\",\n          \"Condo for sale\"\n        ],\n        \"semantic_type\": \"\",\n        \"description\": \"\"\n      }\n    },\n    {\n      \"column\": \"PRICE\",\n      \"properties\": {\n        \"dtype\": \"number\",\n        \"std\": 31355246,\n        \"min\": 2494,\n        \"max\": 2147483647,\n        \"num_unique_values\": 1274,\n        \"samples\": [\n          49500,\n          755000,\n          699998\n        ],\n        \"semantic_type\": \"\",\n        \"description\": \"\"\n      }\n    },\n    {\n      \"column\": \"BEDS\",\n      \"properties\": {\n        \"dtype\": \"number\",\n        \"std\": 2,\n        \"min\": 1,\n        \"max\": 50,\n        \"num_unique_values\": 27,\n        \"samples\": [\n          12,\n          14,\n          10\n        ],\n        \"semantic_type\": \"\",\n        \"description\": \"\"\n      }\n    },\n    {\n      \"column\": \"BATH\",\n      \"properties\": {\n        \"dtype\": \"number\",\n        \"std\": 1.9469616305978465,\n        \"min\": 0.0,\n        \"max\": 50.0,\n        \"num_unique_values\": 22,\n        \"samples\": [\n          2.0,\n          13.0,\n          8.0\n        ],\n        \"semantic_type\": \"\",\n        \"description\": \"\"\n      }\n    },\n    {\n      \"column\": \"PROPERTYSQFT\",\n      \"properties\": {\n        \"dtype\": \"number\",\n        \"std\": 2377.140893559752,\n        \"min\": 230.0,\n        \"max\": 65535.0,\n        \"num_unique_values\": 1445,\n        \"samples\": [\n          2472.0,\n          1445.0,\n          1868.0\n        ],\n        \"semantic_type\": \"\",\n        \"description\": \"\"\n      }\n    },\n    {\n      \"column\": \"ADDRESS\",\n      \"properties\": {\n        \"dtype\": \"string\",\n        \"num_unique_values\": 4582,\n        \"samples\": [\n          \"3671 Hudson Manor Ter Apt 14J\",\n          \"150 W End Ave Apt 5H\",\n          \"220 E 65th St Apt 20B\"\n        ],\n        \"semantic_type\": \"\",\n        \"description\": \"\"\n      }\n    },\n    {\n      \"column\": \"STATE\",\n      \"properties\": {\n        \"dtype\": \"category\",\n        \"num_unique_values\": 308,\n        \"samples\": [\n          \"Jackson Heights, NY 11370\",\n          \"Brooklyn, NY 11230\",\n          \"Manhattan, NY 10010\"\n        ],\n        \"semantic_type\": \"\",\n        \"description\": \"\"\n      }\n    },\n    {\n      \"column\": \"MAIN_ADDRESS\",\n      \"properties\": {\n        \"dtype\": \"string\",\n        \"num_unique_values\": 4583,\n        \"samples\": [\n          \"111 Sunset BlvdBronx, NY 10473\",\n          \"21-16 35th St Unit 1BAstoria, NY 11105\",\n          \"104-02 223rd StQueens Village, NY 11429\"\n        ],\n        \"semantic_type\": \"\",\n        \"description\": \"\"\n      }\n    },\n    {\n      \"column\": \"ADMINISTRATIVE_AREA_LEVEL_2\",\n      \"properties\": {\n        \"dtype\": \"category\",\n        \"num_unique_values\": 29,\n        \"samples\": [\n          \"11237\",\n          \"Queens County\",\n          \"11417\"\n        ],\n        \"semantic_type\": \"\",\n        \"description\": \"\"\n      }\n    },\n    {\n      \"column\": \"LOCALITY\",\n      \"properties\": {\n        \"dtype\": \"category\",\n        \"num_unique_values\": 11,\n        \"samples\": [\n          \"Queens County\",\n          \"New York\",\n          \"Queens\"\n        ],\n        \"semantic_type\": \"\",\n        \"description\": \"\"\n      }\n    },\n    {\n      \"column\": \"SUBLOCALITY\",\n      \"properties\": {\n        \"dtype\": \"category\",\n        \"num_unique_values\": 21,\n        \"samples\": [\n          \"Manhattan\",\n          \"Fort Hamilton\",\n          \"Riverdale\"\n        ],\n        \"semantic_type\": \"\",\n        \"description\": \"\"\n      }\n    },\n    {\n      \"column\": \"STREET_NAME\",\n      \"properties\": {\n        \"dtype\": \"category\",\n        \"num_unique_values\": 174,\n        \"samples\": [\n          \"John Street\",\n          \"Shore Road\",\n          \"Mill Basin\"\n        ],\n        \"semantic_type\": \"\",\n        \"description\": \"\"\n      }\n    },\n    {\n      \"column\": \"LONG_NAME\",\n      \"properties\": {\n        \"dtype\": \"string\",\n        \"num_unique_values\": 2731,\n        \"samples\": [\n          \"205th Place\",\n          \"83-52\",\n          \"1530\"\n        ],\n        \"semantic_type\": \"\",\n        \"description\": \"\"\n      }\n    },\n    {\n      \"column\": \"FORMATTED_ADDRESS\",\n      \"properties\": {\n        \"dtype\": \"string\",\n        \"num_unique_values\": 4550,\n        \"samples\": [\n          \"4410 Cayuga Ave Bsmt B3, Bronx, NY 10471, USA\",\n          \"270-10 Grand Central Pkwy #25k, Little Neck, NY 11362, USA\",\n          \"165 Cromwell Ave #2b, Staten Island, NY 10304, USA\"\n        ],\n        \"semantic_type\": \"\",\n        \"description\": \"\"\n      }\n    },\n    {\n      \"column\": \"LATITUDE\",\n      \"properties\": {\n        \"dtype\": \"number\",\n        \"std\": 0.08767556707715031,\n        \"min\": 40.4995462,\n        \"max\": 40.9127295,\n        \"num_unique_values\": 4196,\n        \"samples\": [\n          40.782238,\n          40.6180243,\n          40.7121557\n        ],\n        \"semantic_type\": \"\",\n        \"description\": \"\"\n      }\n    },\n    {\n      \"column\": \"LONGITUDE\",\n      \"properties\": {\n        \"dtype\": \"number\",\n        \"std\": 0.10108248150173901,\n        \"min\": -74.2530332,\n        \"max\": -73.70245,\n        \"num_unique_values\": 4118,\n        \"samples\": [\n          -73.9071739,\n          -74.017865,\n          -74.0802854\n        ],\n        \"semantic_type\": \"\",\n        \"description\": \"\"\n      }\n    }\n  ]\n}"
            }
          },
          "metadata": {},
          "execution_count": 13
        }
      ]
    },
    {
      "cell_type": "code",
      "source": [
        "df[['PRICE','BEDS','BATH','MAIN_ADDRESS']].head(10)"
      ],
      "metadata": {
        "colab": {
          "base_uri": "https://localhost:8080/",
          "height": 363
        },
        "id": "q_rA_hsIaQc3",
        "outputId": "7cda596b-0dea-4f5b-faef-c9ff6d3df923"
      },
      "execution_count": null,
      "outputs": [
        {
          "output_type": "execute_result",
          "data": {
            "text/plain": [
              "       PRICE  BEDS       BATH  \\\n",
              "0     315000     2   2.000000   \n",
              "1  195000000     7  10.000000   \n",
              "2     260000     4   2.000000   \n",
              "3      69000     3   1.000000   \n",
              "4   55000000     7   2.373861   \n",
              "5     690000     5   2.000000   \n",
              "6     899500     2   2.000000   \n",
              "7   16800000     8  16.000000   \n",
              "8     265000     1   1.000000   \n",
              "9     440000     2   1.000000   \n",
              "\n",
              "                                        MAIN_ADDRESS  \n",
              "0             2 E 55th St Unit 803New York, NY 10022  \n",
              "1  Central Park Tower Penthouse-217 W 57th New Yo...  \n",
              "2            620 Sinclair AveStaten Island, NY 10312  \n",
              "3         2 E 55th St Unit 908W33Manhattan, NY 10022  \n",
              "4                      5 E 64th StNew York, NY 10065  \n",
              "5                      584 Park PlBrooklyn, NY 11238  \n",
              "6           157 W 126th St Unit 1BNew York, NY 10027  \n",
              "7             177 Benedict RdStaten Island, NY 10304  \n",
              "8             875 Morrison Ave Apt 3MBronx, NY 10473  \n",
              "9           1350 Ocean Pkwy Apt 5GBrooklyn, NY 11230  "
            ],
            "text/html": [
              "\n",
              "  <div id=\"df-d4fb5959-b1b1-4224-b6aa-4adb78979d29\" class=\"colab-df-container\">\n",
              "    <div>\n",
              "<style scoped>\n",
              "    .dataframe tbody tr th:only-of-type {\n",
              "        vertical-align: middle;\n",
              "    }\n",
              "\n",
              "    .dataframe tbody tr th {\n",
              "        vertical-align: top;\n",
              "    }\n",
              "\n",
              "    .dataframe thead th {\n",
              "        text-align: right;\n",
              "    }\n",
              "</style>\n",
              "<table border=\"1\" class=\"dataframe\">\n",
              "  <thead>\n",
              "    <tr style=\"text-align: right;\">\n",
              "      <th></th>\n",
              "      <th>PRICE</th>\n",
              "      <th>BEDS</th>\n",
              "      <th>BATH</th>\n",
              "      <th>MAIN_ADDRESS</th>\n",
              "    </tr>\n",
              "  </thead>\n",
              "  <tbody>\n",
              "    <tr>\n",
              "      <th>0</th>\n",
              "      <td>315000</td>\n",
              "      <td>2</td>\n",
              "      <td>2.000000</td>\n",
              "      <td>2 E 55th St Unit 803New York, NY 10022</td>\n",
              "    </tr>\n",
              "    <tr>\n",
              "      <th>1</th>\n",
              "      <td>195000000</td>\n",
              "      <td>7</td>\n",
              "      <td>10.000000</td>\n",
              "      <td>Central Park Tower Penthouse-217 W 57th New Yo...</td>\n",
              "    </tr>\n",
              "    <tr>\n",
              "      <th>2</th>\n",
              "      <td>260000</td>\n",
              "      <td>4</td>\n",
              "      <td>2.000000</td>\n",
              "      <td>620 Sinclair AveStaten Island, NY 10312</td>\n",
              "    </tr>\n",
              "    <tr>\n",
              "      <th>3</th>\n",
              "      <td>69000</td>\n",
              "      <td>3</td>\n",
              "      <td>1.000000</td>\n",
              "      <td>2 E 55th St Unit 908W33Manhattan, NY 10022</td>\n",
              "    </tr>\n",
              "    <tr>\n",
              "      <th>4</th>\n",
              "      <td>55000000</td>\n",
              "      <td>7</td>\n",
              "      <td>2.373861</td>\n",
              "      <td>5 E 64th StNew York, NY 10065</td>\n",
              "    </tr>\n",
              "    <tr>\n",
              "      <th>5</th>\n",
              "      <td>690000</td>\n",
              "      <td>5</td>\n",
              "      <td>2.000000</td>\n",
              "      <td>584 Park PlBrooklyn, NY 11238</td>\n",
              "    </tr>\n",
              "    <tr>\n",
              "      <th>6</th>\n",
              "      <td>899500</td>\n",
              "      <td>2</td>\n",
              "      <td>2.000000</td>\n",
              "      <td>157 W 126th St Unit 1BNew York, NY 10027</td>\n",
              "    </tr>\n",
              "    <tr>\n",
              "      <th>7</th>\n",
              "      <td>16800000</td>\n",
              "      <td>8</td>\n",
              "      <td>16.000000</td>\n",
              "      <td>177 Benedict RdStaten Island, NY 10304</td>\n",
              "    </tr>\n",
              "    <tr>\n",
              "      <th>8</th>\n",
              "      <td>265000</td>\n",
              "      <td>1</td>\n",
              "      <td>1.000000</td>\n",
              "      <td>875 Morrison Ave Apt 3MBronx, NY 10473</td>\n",
              "    </tr>\n",
              "    <tr>\n",
              "      <th>9</th>\n",
              "      <td>440000</td>\n",
              "      <td>2</td>\n",
              "      <td>1.000000</td>\n",
              "      <td>1350 Ocean Pkwy Apt 5GBrooklyn, NY 11230</td>\n",
              "    </tr>\n",
              "  </tbody>\n",
              "</table>\n",
              "</div>\n",
              "    <div class=\"colab-df-buttons\">\n",
              "\n",
              "  <div class=\"colab-df-container\">\n",
              "    <button class=\"colab-df-convert\" onclick=\"convertToInteractive('df-d4fb5959-b1b1-4224-b6aa-4adb78979d29')\"\n",
              "            title=\"Convert this dataframe to an interactive table.\"\n",
              "            style=\"display:none;\">\n",
              "\n",
              "  <svg xmlns=\"http://www.w3.org/2000/svg\" height=\"24px\" viewBox=\"0 -960 960 960\">\n",
              "    <path d=\"M120-120v-720h720v720H120Zm60-500h600v-160H180v160Zm220 220h160v-160H400v160Zm0 220h160v-160H400v160ZM180-400h160v-160H180v160Zm440 0h160v-160H620v160ZM180-180h160v-160H180v160Zm440 0h160v-160H620v160Z\"/>\n",
              "  </svg>\n",
              "    </button>\n",
              "\n",
              "  <style>\n",
              "    .colab-df-container {\n",
              "      display:flex;\n",
              "      gap: 12px;\n",
              "    }\n",
              "\n",
              "    .colab-df-convert {\n",
              "      background-color: #E8F0FE;\n",
              "      border: none;\n",
              "      border-radius: 50%;\n",
              "      cursor: pointer;\n",
              "      display: none;\n",
              "      fill: #1967D2;\n",
              "      height: 32px;\n",
              "      padding: 0 0 0 0;\n",
              "      width: 32px;\n",
              "    }\n",
              "\n",
              "    .colab-df-convert:hover {\n",
              "      background-color: #E2EBFA;\n",
              "      box-shadow: 0px 1px 2px rgba(60, 64, 67, 0.3), 0px 1px 3px 1px rgba(60, 64, 67, 0.15);\n",
              "      fill: #174EA6;\n",
              "    }\n",
              "\n",
              "    .colab-df-buttons div {\n",
              "      margin-bottom: 4px;\n",
              "    }\n",
              "\n",
              "    [theme=dark] .colab-df-convert {\n",
              "      background-color: #3B4455;\n",
              "      fill: #D2E3FC;\n",
              "    }\n",
              "\n",
              "    [theme=dark] .colab-df-convert:hover {\n",
              "      background-color: #434B5C;\n",
              "      box-shadow: 0px 1px 3px 1px rgba(0, 0, 0, 0.15);\n",
              "      filter: drop-shadow(0px 1px 2px rgba(0, 0, 0, 0.3));\n",
              "      fill: #FFFFFF;\n",
              "    }\n",
              "  </style>\n",
              "\n",
              "    <script>\n",
              "      const buttonEl =\n",
              "        document.querySelector('#df-d4fb5959-b1b1-4224-b6aa-4adb78979d29 button.colab-df-convert');\n",
              "      buttonEl.style.display =\n",
              "        google.colab.kernel.accessAllowed ? 'block' : 'none';\n",
              "\n",
              "      async function convertToInteractive(key) {\n",
              "        const element = document.querySelector('#df-d4fb5959-b1b1-4224-b6aa-4adb78979d29');\n",
              "        const dataTable =\n",
              "          await google.colab.kernel.invokeFunction('convertToInteractive',\n",
              "                                                    [key], {});\n",
              "        if (!dataTable) return;\n",
              "\n",
              "        const docLinkHtml = 'Like what you see? Visit the ' +\n",
              "          '<a target=\"_blank\" href=https://colab.research.google.com/notebooks/data_table.ipynb>data table notebook</a>'\n",
              "          + ' to learn more about interactive tables.';\n",
              "        element.innerHTML = '';\n",
              "        dataTable['output_type'] = 'display_data';\n",
              "        await google.colab.output.renderOutput(dataTable, element);\n",
              "        const docLink = document.createElement('div');\n",
              "        docLink.innerHTML = docLinkHtml;\n",
              "        element.appendChild(docLink);\n",
              "      }\n",
              "    </script>\n",
              "  </div>\n",
              "\n",
              "\n",
              "<div id=\"df-4e5571ac-84c6-4211-af26-104bf875acda\">\n",
              "  <button class=\"colab-df-quickchart\" onclick=\"quickchart('df-4e5571ac-84c6-4211-af26-104bf875acda')\"\n",
              "            title=\"Suggest charts\"\n",
              "            style=\"display:none;\">\n",
              "\n",
              "<svg xmlns=\"http://www.w3.org/2000/svg\" height=\"24px\"viewBox=\"0 0 24 24\"\n",
              "     width=\"24px\">\n",
              "    <g>\n",
              "        <path d=\"M19 3H5c-1.1 0-2 .9-2 2v14c0 1.1.9 2 2 2h14c1.1 0 2-.9 2-2V5c0-1.1-.9-2-2-2zM9 17H7v-7h2v7zm4 0h-2V7h2v10zm4 0h-2v-4h2v4z\"/>\n",
              "    </g>\n",
              "</svg>\n",
              "  </button>\n",
              "\n",
              "<style>\n",
              "  .colab-df-quickchart {\n",
              "      --bg-color: #E8F0FE;\n",
              "      --fill-color: #1967D2;\n",
              "      --hover-bg-color: #E2EBFA;\n",
              "      --hover-fill-color: #174EA6;\n",
              "      --disabled-fill-color: #AAA;\n",
              "      --disabled-bg-color: #DDD;\n",
              "  }\n",
              "\n",
              "  [theme=dark] .colab-df-quickchart {\n",
              "      --bg-color: #3B4455;\n",
              "      --fill-color: #D2E3FC;\n",
              "      --hover-bg-color: #434B5C;\n",
              "      --hover-fill-color: #FFFFFF;\n",
              "      --disabled-bg-color: #3B4455;\n",
              "      --disabled-fill-color: #666;\n",
              "  }\n",
              "\n",
              "  .colab-df-quickchart {\n",
              "    background-color: var(--bg-color);\n",
              "    border: none;\n",
              "    border-radius: 50%;\n",
              "    cursor: pointer;\n",
              "    display: none;\n",
              "    fill: var(--fill-color);\n",
              "    height: 32px;\n",
              "    padding: 0;\n",
              "    width: 32px;\n",
              "  }\n",
              "\n",
              "  .colab-df-quickchart:hover {\n",
              "    background-color: var(--hover-bg-color);\n",
              "    box-shadow: 0 1px 2px rgba(60, 64, 67, 0.3), 0 1px 3px 1px rgba(60, 64, 67, 0.15);\n",
              "    fill: var(--button-hover-fill-color);\n",
              "  }\n",
              "\n",
              "  .colab-df-quickchart-complete:disabled,\n",
              "  .colab-df-quickchart-complete:disabled:hover {\n",
              "    background-color: var(--disabled-bg-color);\n",
              "    fill: var(--disabled-fill-color);\n",
              "    box-shadow: none;\n",
              "  }\n",
              "\n",
              "  .colab-df-spinner {\n",
              "    border: 2px solid var(--fill-color);\n",
              "    border-color: transparent;\n",
              "    border-bottom-color: var(--fill-color);\n",
              "    animation:\n",
              "      spin 1s steps(1) infinite;\n",
              "  }\n",
              "\n",
              "  @keyframes spin {\n",
              "    0% {\n",
              "      border-color: transparent;\n",
              "      border-bottom-color: var(--fill-color);\n",
              "      border-left-color: var(--fill-color);\n",
              "    }\n",
              "    20% {\n",
              "      border-color: transparent;\n",
              "      border-left-color: var(--fill-color);\n",
              "      border-top-color: var(--fill-color);\n",
              "    }\n",
              "    30% {\n",
              "      border-color: transparent;\n",
              "      border-left-color: var(--fill-color);\n",
              "      border-top-color: var(--fill-color);\n",
              "      border-right-color: var(--fill-color);\n",
              "    }\n",
              "    40% {\n",
              "      border-color: transparent;\n",
              "      border-right-color: var(--fill-color);\n",
              "      border-top-color: var(--fill-color);\n",
              "    }\n",
              "    60% {\n",
              "      border-color: transparent;\n",
              "      border-right-color: var(--fill-color);\n",
              "    }\n",
              "    80% {\n",
              "      border-color: transparent;\n",
              "      border-right-color: var(--fill-color);\n",
              "      border-bottom-color: var(--fill-color);\n",
              "    }\n",
              "    90% {\n",
              "      border-color: transparent;\n",
              "      border-bottom-color: var(--fill-color);\n",
              "    }\n",
              "  }\n",
              "</style>\n",
              "\n",
              "  <script>\n",
              "    async function quickchart(key) {\n",
              "      const quickchartButtonEl =\n",
              "        document.querySelector('#' + key + ' button');\n",
              "      quickchartButtonEl.disabled = true;  // To prevent multiple clicks.\n",
              "      quickchartButtonEl.classList.add('colab-df-spinner');\n",
              "      try {\n",
              "        const charts = await google.colab.kernel.invokeFunction(\n",
              "            'suggestCharts', [key], {});\n",
              "      } catch (error) {\n",
              "        console.error('Error during call to suggestCharts:', error);\n",
              "      }\n",
              "      quickchartButtonEl.classList.remove('colab-df-spinner');\n",
              "      quickchartButtonEl.classList.add('colab-df-quickchart-complete');\n",
              "    }\n",
              "    (() => {\n",
              "      let quickchartButtonEl =\n",
              "        document.querySelector('#df-4e5571ac-84c6-4211-af26-104bf875acda button');\n",
              "      quickchartButtonEl.style.display =\n",
              "        google.colab.kernel.accessAllowed ? 'block' : 'none';\n",
              "    })();\n",
              "  </script>\n",
              "</div>\n",
              "\n",
              "    </div>\n",
              "  </div>\n"
            ],
            "application/vnd.google.colaboratory.intrinsic+json": {
              "type": "dataframe",
              "summary": "{\n  \"name\": \"df[['PRICE','BEDS','BATH','MAIN_ADDRESS']]\",\n  \"rows\": 10,\n  \"fields\": [\n    {\n      \"column\": \"PRICE\",\n      \"properties\": {\n        \"dtype\": \"number\",\n        \"std\": 61516099,\n        \"min\": 69000,\n        \"max\": 195000000,\n        \"num_unique_values\": 10,\n        \"samples\": [\n          265000,\n          195000000,\n          690000\n        ],\n        \"semantic_type\": \"\",\n        \"description\": \"\"\n      }\n    },\n    {\n      \"column\": \"BEDS\",\n      \"properties\": {\n        \"dtype\": \"number\",\n        \"std\": 2,\n        \"min\": 1,\n        \"max\": 8,\n        \"num_unique_values\": 7,\n        \"samples\": [\n          2,\n          7,\n          8\n        ],\n        \"semantic_type\": \"\",\n        \"description\": \"\"\n      }\n    },\n    {\n      \"column\": \"BATH\",\n      \"properties\": {\n        \"dtype\": \"number\",\n        \"std\": 5.006719079693793,\n        \"min\": 1.0,\n        \"max\": 16.0,\n        \"num_unique_values\": 5,\n        \"samples\": [\n          10.0,\n          16.0,\n          1.0\n        ],\n        \"semantic_type\": \"\",\n        \"description\": \"\"\n      }\n    },\n    {\n      \"column\": \"MAIN_ADDRESS\",\n      \"properties\": {\n        \"dtype\": \"string\",\n        \"num_unique_values\": 10,\n        \"samples\": [\n          \"875 Morrison Ave Apt 3MBronx, NY 10473\",\n          \"Central Park Tower Penthouse-217 W 57th New York St Unit PenthouseNew York, NY 10019\",\n          \"584 Park PlBrooklyn, NY 11238\"\n        ],\n        \"semantic_type\": \"\",\n        \"description\": \"\"\n      }\n    }\n  ]\n}"
            }
          },
          "metadata": {},
          "execution_count": 14
        }
      ]
    },
    {
      "cell_type": "code",
      "source": [
        "data.isnull().sum()"
      ],
      "metadata": {
        "colab": {
          "base_uri": "https://localhost:8080/"
        },
        "id": "MxDc4hh7fP0p",
        "outputId": "9a1b36f6-3489-456e-8875-019e330425eb"
      },
      "execution_count": null,
      "outputs": [
        {
          "output_type": "execute_result",
          "data": {
            "text/plain": [
              "BROKERTITLE                    0\n",
              "TYPE                           0\n",
              "PRICE                          0\n",
              "BEDS                           0\n",
              "BATH                           0\n",
              "PROPERTYSQFT                   0\n",
              "ADDRESS                        0\n",
              "STATE                          0\n",
              "MAIN_ADDRESS                   0\n",
              "ADMINISTRATIVE_AREA_LEVEL_2    0\n",
              "LOCALITY                       0\n",
              "SUBLOCALITY                    0\n",
              "STREET_NAME                    0\n",
              "LONG_NAME                      0\n",
              "FORMATTED_ADDRESS              0\n",
              "LATITUDE                       0\n",
              "LONGITUDE                      0\n",
              "dtype: int64"
            ]
          },
          "metadata": {},
          "execution_count": 15
        }
      ]
    },
    {
      "cell_type": "code",
      "source": [
        "data.duplicated().sum()"
      ],
      "metadata": {
        "colab": {
          "base_uri": "https://localhost:8080/"
        },
        "id": "9v_JwxsQhXyF",
        "outputId": "971d983b-998c-464b-afe0-c8c0ebfc865e"
      },
      "execution_count": null,
      "outputs": [
        {
          "output_type": "execute_result",
          "data": {
            "text/plain": [
              "214"
            ]
          },
          "metadata": {},
          "execution_count": 16
        }
      ]
    },
    {
      "cell_type": "code",
      "source": [
        "data.drop_duplicates(inplace=True)"
      ],
      "metadata": {
        "id": "YZYo-F_mhnBY"
      },
      "execution_count": null,
      "outputs": []
    },
    {
      "cell_type": "code",
      "source": [
        "data.duplicated().sum()"
      ],
      "metadata": {
        "colab": {
          "base_uri": "https://localhost:8080/"
        },
        "id": "-CKAkK5thyGG",
        "outputId": "03071784-af91-4ae7-8ac5-c27c3f819040"
      },
      "execution_count": null,
      "outputs": [
        {
          "output_type": "execute_result",
          "data": {
            "text/plain": [
              "0"
            ]
          },
          "metadata": {},
          "execution_count": 18
        }
      ]
    },
    {
      "cell_type": "markdown",
      "source": [
        "Find out the skewness"
      ],
      "metadata": {
        "id": "iEwezIRFjOza"
      }
    },
    {
      "cell_type": "code",
      "source": [
        "from scipy.stats import skew\n",
        "print(skew(data['BATH']))"
      ],
      "metadata": {
        "colab": {
          "base_uri": "https://localhost:8080/"
        },
        "id": "KXaDO9DtizBE",
        "outputId": "364abe31-b6de-4ba9-896e-c787079545af"
      },
      "execution_count": null,
      "outputs": [
        {
          "output_type": "stream",
          "name": "stdout",
          "text": [
            "7.826492014042604\n"
          ]
        }
      ]
    },
    {
      "cell_type": "code",
      "source": [
        "data['BATH'].plot(kind=\"box\", figsize=(9,9))"
      ],
      "metadata": {
        "colab": {
          "base_uri": "https://localhost:8080/",
          "height": 770
        },
        "id": "HL97J6kAvDIb",
        "outputId": "b45beeb1-c87d-4c93-d0dc-f2ab04d64195"
      },
      "execution_count": null,
      "outputs": [
        {
          "output_type": "execute_result",
          "data": {
            "text/plain": [
              "<Axes: >"
            ]
          },
          "metadata": {},
          "execution_count": 20
        },
        {
          "output_type": "display_data",
          "data": {
            "text/plain": [
              "<Figure size 900x900 with 1 Axes>"
            ],
            "image/png": "[encoded data removed]"
          },
          "metadata": {}
        }
      ]
    },
    {
      "cell_type": "code",
      "source": [
        "# Calculate the skewness of the data\n",
        "skewness = data['BATH'].skew()\n",
        "\n",
        "# Print the skewness value\n",
        "print(\"Skewness of the dataset:\", skewness)\n",
        "\n",
        "# If skewness is positive, apply log transformation to make the data more symmetric\n",
        "if skewness > 0:\n",
        "    transformed_data = np.log1p(data['BATH'])  # Log transformation\n",
        "    # Replace the skewed column with the transformed data\n",
        "    data['BATH'] = transformed_data\n",
        "\n",
        "# Print the updated skewness after transformation\n",
        "print(\"Skewness after transformation:\", data['BATH'].skew())"
      ],
      "metadata": {
        "colab": {
          "base_uri": "https://localhost:8080/"
        },
        "id": "0Zeun-O5vSXs",
        "outputId": "96761810-761b-4c9e-8256-eefcffd11e55"
      },
      "execution_count": null,
      "outputs": [
        {
          "output_type": "stream",
          "name": "stdout",
          "text": [
            "Skewness of the dataset: 7.82905243382857\n",
            "Skewness after transformation: 1.025720257379302\n"
          ]
        }
      ]
    },
    {
      "cell_type": "code",
      "source": [
        "data['BATH'].plot(kind=\"box\", figsize=(9,9))"
      ],
      "metadata": {
        "colab": {
          "base_uri": "https://localhost:8080/",
          "height": 770
        },
        "id": "FRSg6Xm0vzF_",
        "outputId": "a03643d3-397b-4ea9-caa7-2853c284862c"
      },
      "execution_count": null,
      "outputs": [
        {
          "output_type": "execute_result",
          "data": {
            "text/plain": [
              "<Axes: >"
            ]
          },
          "metadata": {},
          "execution_count": 22
        },
        {
          "output_type": "display_data",
          "data": {
            "text/plain": [
              "<Figure size 900x900 with 1 Axes>"
            ],
            "image/png": "[encoded data removed]"
          },
          "metadata": {}
        }
      ]
    },
    {
      "cell_type": "code",
      "source": [
        "data[\"BATH\"].plot(kind=\"hist\", figsize=(9,9), bins=20)"
      ],
      "metadata": {
        "colab": {
          "base_uri": "https://localhost:8080/",
          "height": 770
        },
        "id": "qpk1ZuipwSBp",
        "outputId": "7e7e4378-bade-44aa-d8ec-fb8511efdfd7"
      },
      "execution_count": null,
      "outputs": [
        {
          "output_type": "execute_result",
          "data": {
            "text/plain": [
              "<Axes: ylabel='Frequency'>"
            ]
          },
          "metadata": {},
          "execution_count": 23
        },
        {
          "output_type": "display_data",
          "data": {
            "text/plain": [
              "<Figure size 900x900 with 1 Axes>"
            ],
            "image/png": "[encoded data removed]"
          },
          "metadata": {}
        }
      ]
    },
    {
      "cell_type": "code",
      "source": [
        "\n",
        "#Data for bath\n",
        "data['BATH']"
      ],
      "metadata": {
        "colab": {
          "base_uri": "https://localhost:8080/"
        },
        "id": "Ry-FenEqwus6",
        "outputId": "5af1cd98-ef93-4d34-8eaf-bd9a4924c140"
      },
      "execution_count": null,
      "outputs": [
        {
          "output_type": "execute_result",
          "data": {
            "text/plain": [
              "0       1.098612\n",
              "1       2.397895\n",
              "2       1.098612\n",
              "3       0.693147\n",
              "4       1.216058\n",
              "          ...   \n",
              "4796    0.693147\n",
              "4797    0.693147\n",
              "4798    0.693147\n",
              "4799    0.693147\n",
              "4800    0.693147\n",
              "Name: BATH, Length: 4587, dtype: float64"
            ]
          },
          "metadata": {},
          "execution_count": 25
        }
      ]
    },
    {
      "cell_type": "code",
      "source": [
        "min(data['BATH'])"
      ],
      "metadata": {
        "colab": {
          "base_uri": "https://localhost:8080/"
        },
        "id": "EwWkmnKq7tgf",
        "outputId": "5ac26d8a-3359-4eab-b0d4-7072e965d3d8"
      },
      "execution_count": null,
      "outputs": [
        {
          "output_type": "execute_result",
          "data": {
            "text/plain": [
              "0.0"
            ]
          },
          "metadata": {},
          "execution_count": 26
        }
      ]
    },
    {
      "cell_type": "code",
      "source": [
        "#Boxplot for bath\n",
        "data[\"BATH\"].plot(kind=\"box\", figsize=(9,9))"
      ],
      "metadata": {
        "colab": {
          "base_uri": "https://localhost:8080/",
          "height": 770
        },
        "id": "PflkIul57-Jf",
        "outputId": "57da7a8c-0fa0-4795-a879-cab59a3889e5"
      },
      "execution_count": null,
      "outputs": [
        {
          "output_type": "execute_result",
          "data": {
            "text/plain": [
              "<Axes: >"
            ]
          },
          "metadata": {},
          "execution_count": 27
        },
        {
          "output_type": "display_data",
          "data": {
            "text/plain": [
              "<Figure size 900x900 with 1 Axes>"
            ],
            "image/png": "[encoded data removed]"
          },
          "metadata": {}
        }
      ]
    },
    {
      "cell_type": "code",
      "source": [
        "#variance of the bath\n",
        "va=statistics.variance(data['BATH'])\n",
        "print(va)"
      ],
      "metadata": {
        "colab": {
          "base_uri": "https://localhost:8080/"
        },
        "id": "n55qfmra8D1T",
        "outputId": "6affcf06-c833-43ce-d730-10245d0fb3c8"
      },
      "execution_count": null,
      "outputs": [
        {
          "output_type": "stream",
          "name": "stdout",
          "text": [
            "0.15731840040647754\n"
          ]
        }
      ]
    },
    {
      "cell_type": "code",
      "source": [
        "#25 and 75 percentiles of bath\n",
        "q1=np.percentile(data['BATH'],25)\n",
        "print(q1)\n",
        "q3=np.percentile(data['BATH'],75)\n",
        "print(q3)"
      ],
      "metadata": {
        "colab": {
          "base_uri": "https://localhost:8080/"
        },
        "id": "ITSmwH068ZGo",
        "outputId": "f4864dc6-9ae7-40dd-c5a2-17a64472fde1"
      },
      "execution_count": null,
      "outputs": [
        {
          "output_type": "stream",
          "name": "stdout",
          "text": [
            "0.6931471805599453\n",
            "1.3862943611198906\n"
          ]
        }
      ]
    },
    {
      "cell_type": "code",
      "source": [
        "# Check the skeweness of bath\n",
        "from scipy.stats import skew\n",
        "print(skew(data['BATH']))"
      ],
      "metadata": {
        "colab": {
          "base_uri": "https://localhost:8080/"
        },
        "id": "y4cUJ8cs8vMF",
        "outputId": "619a2c92-feaa-455a-8907-875fb6a1ddfe"
      },
      "execution_count": null,
      "outputs": [
        {
          "output_type": "stream",
          "name": "stdout",
          "text": [
            "1.025384804977615\n"
          ]
        }
      ]
    },
    {
      "cell_type": "code",
      "source": [
        "#skewness\n",
        "data[\"BATH\"].fillna(data[\"BATH\"].median(),inplace=True)\n",
        "t=sns.distplot(data[\"BATH\"],label=\"Skewness: %.2f\"%(data[\"BATH\"].skew()) )\n",
        "t.legend()"
      ],
      "metadata": {
        "colab": {
          "base_uri": "https://localhost:8080/",
          "height": 657
        },
        "id": "fgM9hUkI8-o5",
        "outputId": "b29f8251-4d08-4c01-974c-0b45c357cde1"
      },
      "execution_count": null,
      "outputs": [
        {
          "output_type": "stream",
          "name": "stderr",
          "text": [
            "<ipython-input-31-bda74e1576ea>:2: UserWarning: \n",
            "\n",
            "`distplot` is a deprecated function and will be removed in seaborn v0.14.0.\n",
            "\n",
            "Please adapt your code to use either `displot` (a figure-level function with\n",
            "similar flexibility) or `histplot` (an axes-level function for histograms).\n",
            "\n",
            "For a guide to updating your code to use the new functions, please see\n",
            "https://gist.github.com/mwaskom/de44147ed2974457ad6372750bbe5751\n",
            "\n",
            "  t=sns.distplot(data[\"BATH\"],label=\"Skewness: %.2f\"%(data[\"BATH\"].skew()) )\n"
          ]
        },
        {
          "output_type": "execute_result",
          "data": {
            "text/plain": [
              "<matplotlib.legend.Legend at 0x7dc9501b2380>"
            ]
          },
          "metadata": {},
          "execution_count": 31
        },
        {
          "output_type": "display_data",
          "data": {
            "text/plain": [
              "<Figure size 640x480 with 1 Axes>"
            ],
            "image/png": "[encoded data removed]"
          },
          "metadata": {}
        }
      ]
    },
    {
      "cell_type": "code",
      "source": [
        "data.dtypes"
      ],
      "metadata": {
        "colab": {
          "base_uri": "https://localhost:8080/"
        },
        "id": "Gw2X9d8CUDKZ",
        "outputId": "1514c366-59f4-49c5-aafb-d81c5eca4e33"
      },
      "execution_count": null,
      "outputs": [
        {
          "output_type": "execute_result",
          "data": {
            "text/plain": [
              "BROKERTITLE                     object\n",
              "TYPE                            object\n",
              "PRICE                            int64\n",
              "BEDS                             int64\n",
              "BATH                             int64\n",
              "PROPERTYSQFT                   float64\n",
              "ADDRESS                         object\n",
              "STATE                           object\n",
              "MAIN_ADDRESS                    object\n",
              "ADMINISTRATIVE_AREA_LEVEL_2     object\n",
              "LOCALITY                        object\n",
              "SUBLOCALITY                     object\n",
              "STREET_NAME                     object\n",
              "LONG_NAME                       object\n",
              "FORMATTED_ADDRESS               object\n",
              "LATITUDE                       float64\n",
              "LONGITUDE                      float64\n",
              "dtype: object"
            ]
          },
          "metadata": {},
          "execution_count": 37
        }
      ]
    },
    {
      "cell_type": "code",
      "source": [
        "data['BEDS']"
      ],
      "metadata": {
        "colab": {
          "base_uri": "https://localhost:8080/"
        },
        "id": "iMOdl6v_W22X",
        "outputId": "c4701b55-d4ff-4dc8-9cca-c47046da2211"
      },
      "execution_count": null,
      "outputs": [
        {
          "output_type": "execute_result",
          "data": {
            "text/plain": [
              "0       2\n",
              "1       7\n",
              "2       4\n",
              "3       3\n",
              "4       7\n",
              "       ..\n",
              "4796    1\n",
              "4797    1\n",
              "4798    1\n",
              "4799    2\n",
              "4800    1\n",
              "Name: BEDS, Length: 4587, dtype: int64"
            ]
          },
          "metadata": {},
          "execution_count": 38
        }
      ]
    },
    {
      "cell_type": "code",
      "source": [
        "print(data.describe())"
      ],
      "metadata": {
        "colab": {
          "base_uri": "https://localhost:8080/"
        },
        "id": "pSAiiY8xfqXn",
        "outputId": "608268aa-7533-4580-f2c2-874fafa653f5"
      },
      "execution_count": null,
      "outputs": [
        {
          "output_type": "stream",
          "name": "stdout",
          "text": [
            "              PRICE         BEDS         BATH  PROPERTYSQFT     LATITUDE  \\\n",
            "count  4.587000e+03  4587.000000  4587.000000   4587.000000  4587.000000   \n",
            "mean   2.381172e+06     3.365816     0.707216   2177.712426    40.713932   \n",
            "std    3.206831e+07     2.628808     0.510208   2283.095559     0.087738   \n",
            "min    2.494000e+03     1.000000     0.000000    230.000000    40.499546   \n",
            "25%    4.990000e+05     2.000000     0.000000   1200.000000    40.638588   \n",
            "50%    8.250000e+05     3.000000     1.000000   2184.207862    40.726667   \n",
            "75%    1.498500e+06     4.000000     1.000000   2184.207862    40.771913   \n",
            "max    2.147484e+09    50.000000     3.000000  65535.000000    40.912729   \n",
            "\n",
            "         LONGITUDE  \n",
            "count  4587.000000  \n",
            "mean    -73.941584  \n",
            "std       0.101276  \n",
            "min     -74.253033  \n",
            "25%     -73.987420  \n",
            "50%     -73.949116  \n",
            "75%     -73.869455  \n",
            "max     -73.702450  \n"
          ]
        }
      ]
    },
    {
      "cell_type": "code",
      "source": [
        "mean=statistics.mean(data['BEDS'])"
      ],
      "metadata": {
        "id": "YP0bmA_Ffspi"
      },
      "execution_count": null,
      "outputs": []
    },
    {
      "cell_type": "code",
      "source": [
        "print(round(mean,2))"
      ],
      "metadata": {
        "colab": {
          "base_uri": "https://localhost:8080/"
        },
        "id": "rXn443Qsh2KQ",
        "outputId": "a7041436-2cea-4c72-82cb-e124d3b26ebb"
      },
      "execution_count": null,
      "outputs": [
        {
          "output_type": "stream",
          "name": "stdout",
          "text": [
            "3.37\n"
          ]
        }
      ]
    },
    {
      "cell_type": "code",
      "source": [
        "print(mean)\n",
        "median=statistics.median(data['BEDS'])\n",
        "print(median)"
      ],
      "metadata": {
        "colab": {
          "base_uri": "https://localhost:8080/"
        },
        "id": "DjpANwWsiAEn",
        "outputId": "b2a6d1a5-0554-4447-cd77-0b1fd944bffa"
      },
      "execution_count": null,
      "outputs": [
        {
          "output_type": "stream",
          "name": "stdout",
          "text": [
            "3.365816437758884\n",
            "3\n"
          ]
        }
      ]
    },
    {
      "cell_type": "code",
      "source": [
        "sd=statistics.stdev(data['BEDS'])\n",
        "print(sd)"
      ],
      "metadata": {
        "colab": {
          "base_uri": "https://localhost:8080/"
        },
        "id": "9a3sF6TAiH8y",
        "outputId": "3017cf82-7fe5-4887-daa7-42af08db5c69"
      },
      "execution_count": null,
      "outputs": [
        {
          "output_type": "stream",
          "name": "stdout",
          "text": [
            "2.6288081640084666\n"
          ]
        }
      ]
    },
    {
      "cell_type": "code",
      "source": [
        "va=statistics.variance(data['BEDS'])\n",
        "print(va)"
      ],
      "metadata": {
        "colab": {
          "base_uri": "https://localhost:8080/"
        },
        "id": "VLTRhN7niU-E",
        "outputId": "970c6b87-3d59-4cba-df6f-b3706486e90a"
      },
      "execution_count": null,
      "outputs": [
        {
          "output_type": "stream",
          "name": "stdout",
          "text": [
            "6.910632363157565\n"
          ]
        }
      ]
    },
    {
      "cell_type": "code",
      "source": [
        "q1=np.percentile(data['BEDS'],25)\n",
        "print(q1)\n",
        "q3=np.percentile(data['BEDS'],75)\n",
        "print(q3)"
      ],
      "metadata": {
        "colab": {
          "base_uri": "https://localhost:8080/"
        },
        "id": "xnAyqTOpidGa",
        "outputId": "3100f94a-0ffa-4321-97a2-1bb1aa552718"
      },
      "execution_count": null,
      "outputs": [
        {
          "output_type": "stream",
          "name": "stdout",
          "text": [
            "2.0\n",
            "4.0\n"
          ]
        }
      ]
    },
    {
      "cell_type": "code",
      "source": [
        "data['BEDS'].plot(kind=\"box\", figsize=(9,9))"
      ],
      "metadata": {
        "colab": {
          "base_uri": "https://localhost:8080/",
          "height": 770
        },
        "id": "H4hyzFDtix_y",
        "outputId": "4d2b9241-9dd0-4cd9-f492-8959ff07ed61"
      },
      "execution_count": null,
      "outputs": [
        {
          "output_type": "execute_result",
          "data": {
            "text/plain": [
              "<Axes: >"
            ]
          },
          "metadata": {},
          "execution_count": 48
        },
        {
          "output_type": "display_data",
          "data": {
            "text/plain": [
              "<Figure size 900x900 with 1 Axes>"
            ],
            "image/png": "[encoded data removed]"
          },
          "metadata": {}
        }
      ]
    },
    {
      "cell_type": "code",
      "source": [
        "# Calculate the skewness of the beds\n",
        "skewness = data['BEDS'].skew()\n",
        "\n",
        "# Print the skewness value\n",
        "print(\"Skewness of the dataset:\", skewness)\n",
        "\n",
        "# If skewness is positive, apply log transformation to make the data more symmetric\n",
        "if skewness > 0:\n",
        "    transformed_data = np.log1p(data['BEDS'])  # Log transformation\n",
        "    # Replace the skewed column with the transformed data\n",
        "    data['BEDS'] = transformed_data\n",
        "\n",
        "# Print the updated skewness after transformation\n",
        "print(\"Skewness after transformation:\", data['BEDS'].skew())"
      ],
      "metadata": {
        "colab": {
          "base_uri": "https://localhost:8080/"
        },
        "id": "SiuX5lqbi2v8",
        "outputId": "54a4f7fd-4b2b-4500-c8bd-b6f8560b1898"
      },
      "execution_count": null,
      "outputs": [
        {
          "output_type": "stream",
          "name": "stdout",
          "text": [
            "Skewness of the dataset: 5.495813321650833\n",
            "Skewness after transformation: 0.5555997013122073\n"
          ]
        }
      ]
    },
    {
      "cell_type": "code",
      "source": [
        "data['BEDS'].plot(kind=\"box\", figsize=(9,9))"
      ],
      "metadata": {
        "colab": {
          "base_uri": "https://localhost:8080/",
          "height": 770
        },
        "id": "ipGMD53LjBSs",
        "outputId": "6ec76ec5-8b7a-487f-836e-3fa5c6ac1f23"
      },
      "execution_count": null,
      "outputs": [
        {
          "output_type": "execute_result",
          "data": {
            "text/plain": [
              "<Axes: >"
            ]
          },
          "metadata": {},
          "execution_count": 50
        },
        {
          "output_type": "display_data",
          "data": {
            "text/plain": [
              "<Figure size 900x900 with 1 Axes>"
            ],
            "image/png": "[encoded data removed]"
          },
          "metadata": {}
        }
      ]
    },
    {
      "cell_type": "code",
      "source": [
        "\n",
        "\n",
        "# Scatter plot of bath and beds\n",
        "plt.scatter(data['BATH'], data['BEDS'], alpha=0.5)\n",
        "plt.xlabel('BATH')\n",
        "plt.ylabel('BEDS')\n",
        "plt.title('Association Rules: BATH vs. BEDS')\n",
        "plt.show()\n",
        "\n",
        "\n",
        "\n",
        "# Scatter plot matrix of support, bath and beds\n",
        "pd.plotting.scatter_matrix(data[['BATH', 'BEDS']], alpha=0.5, figsize=(10, 10))\n",
        "plt.suptitle('Association Rules: Scatter Plot Matrix')\n",
        "plt.show()"
      ],
      "metadata": {
        "colab": {
          "base_uri": "https://localhost:8080/",
          "height": 1000
        },
        "id": "EFsiv7hj9KcU",
        "outputId": "2a767511-742a-41e4-8f32-f750932ee5a2"
      },
      "execution_count": null,
      "outputs": [
        {
          "output_type": "stream",
          "name": "stderr",
          "text": [
            "/usr/local/lib/python3.10/dist-packages/ipykernel/ipkernel.py:283: DeprecationWarning: `should_run_async` will not call `transform_cell` automatically in the future. Please pass the result to `transformed_cell` argument and any exception that happen during thetransform in `preprocessing_exc_tuple` in IPython 7.17 and above.\n",
            "  and should_run_async(code)\n"
          ]
        },
        {
          "output_type": "display_data",
          "data": {
            "text/plain": [
              "<Figure size 640x480 with 1 Axes>"
            ],
            "image/png": "[encoded data removed]"
          },
          "metadata": {}
        },
        {
          "output_type": "display_data",
          "data": {
            "text/plain": [
              "<Figure size 1000x1000 with 4 Axes>"
            ],
            "image/png": "[encoded data removed]"
          },
          "metadata": {}
        }
      ]
    }
  ]
}